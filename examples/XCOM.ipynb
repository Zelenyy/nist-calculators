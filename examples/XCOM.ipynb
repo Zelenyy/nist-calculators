{
 "cells": [
  {
   "cell_type": "code",
   "execution_count": null,
   "metadata": {},
   "outputs": [],
   "source": []
  },
  {
   "cell_type": "code",
   "execution_count": null,
   "metadata": {},
   "outputs": [],
   "source": []
  },
  {
   "cell_type": "code",
   "execution_count": null,
   "metadata": {},
   "outputs": [],
   "source": []
  },
  {
   "cell_type": "code",
   "execution_count": null,
   "metadata": {},
   "outputs": [],
   "source": []
  },
  {
   "cell_type": "code",
   "execution_count": 10,
   "metadata": {},
   "outputs": [
    {
     "name": "stdout",
     "output_type": "stream",
     "text": [
      "/home/zelenyy/miniconda3/bin/pip\r\n"
     ]
    }
   ],
   "source": []
  },
  {
   "cell_type": "markdown",
   "metadata": {},
   "source": [
    "## Get source data"
   ]
  },
  {
   "cell_type": "code",
   "execution_count": 1,
   "metadata": {},
   "outputs": [],
   "source": [
    "import tables\n",
    "import matplotlib.pyplot as plt\n",
    "import xcom"
   ]
  },
  {
   "cell_type": "code",
   "execution_count": 2,
   "metadata": {},
   "outputs": [
    {
     "name": "stdout",
     "output_type": "stream",
     "text": [
      "/Z092/data._v_attrs (AttributeSet), 23 attributes:\n",
      "   [AbsorptionEdge := True,\n",
      "    AtomicWeight := 238.0289,\n",
      "    AtomicWeightMDATX3 := 238.050995,\n",
      "    CLASS := 'TABLE',\n",
      "    FIELD_0_FILL := 0.0,\n",
      "    FIELD_0_NAME := 'energy',\n",
      "    FIELD_1_FILL := 0.0,\n",
      "    FIELD_1_NAME := 'coherent',\n",
      "    FIELD_2_FILL := 0.0,\n",
      "    FIELD_2_NAME := 'incoherent',\n",
      "    FIELD_3_FILL := 0.0,\n",
      "    FIELD_3_NAME := 'photoelectric',\n",
      "    FIELD_4_FILL := 0.0,\n",
      "    FIELD_4_NAME := 'pair_atom',\n",
      "    FIELD_5_FILL := 0.0,\n",
      "    FIELD_5_NAME := 'pair_electron',\n",
      "    NROWS := 104,\n",
      "    NumberAbsorptionEdgeEnergy := 12,\n",
      "    TITLE := '',\n",
      "    VERSION := '2.7',\n",
      "    Z := 92,\n",
      "    cross_section_unit := 'barn/atom',\n",
      "    energy_unit := 'eV']\n"
     ]
    },
    {
     "data": {
      "image/png": "[encoded data removed]",
      "text/plain": [
       "<Figure size 432x288 with 1 Axes>"
      ]
     },
     "metadata": {
      "needs_background": "light"
     },
     "output_type": "display_data"
    }
   ],
   "source": [
    "with tables.open_file(xcom.NIST_XCOM_HDF5_PATH) as h5file:\n",
    "    table = h5file.get_node(\"/Z092\", \"data\")\n",
    "    print(repr(table.attrs))\n",
    "    data = table.read()\n",
    "    plt.plot(data[\"energy\"], data['incoherent'])\n",
    "    plt.xlabel(table.attrs[\"energy_unit\"])\n",
    "    plt.ylabel(table.attrs[\"cross_section_unit\"])\n",
    "    plt.xscale(\"log\")\n",
    "    plt.yscale(\"log\")"
   ]
  },
  {
   "cell_type": "code",
   "execution_count": null,
   "metadata": {},
   "outputs": [],
   "source": []
  }
 ],
 "metadata": {
  "kernelspec": {
   "display_name": "Python 3",
   "language": "python",
   "name": "python3"
  },
  "language_info": {
   "codemirror_mode": {
    "name": "ipython",
    "version": 3
   },
   "file_extension": ".py",
   "mimetype": "text/x-python",
   "name": "python",
   "nbconvert_exporter": "python",
   "pygments_lexer": "ipython3",
   "version": "3.7.3"
  }
 },
 "nbformat": 4,
 "nbformat_minor": 2
}
